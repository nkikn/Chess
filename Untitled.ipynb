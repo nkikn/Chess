{
 "cells": [
  {
   "cell_type": "code",
   "execution_count": 1,
   "id": "8003a01e-fa83-49bd-892b-5784403c38ec",
   "metadata": {},
   "outputs": [
    {
     "name": "stderr",
     "output_type": "stream",
     "text": [
      "'nvidia-smi' is not recognized as an internal or external command,\n",
      "operable program or batch file.\n"
     ]
    }
   ],
   "source": [
    "!nvidia-smi\n"
   ]
  },
  {
   "cell_type": "code",
   "execution_count": 2,
   "id": "efbf6f9c-6fe6-47e1-91f7-0dbc662b0e14",
   "metadata": {},
   "outputs": [
    {
     "name": "stdout",
     "output_type": "stream",
     "text": [
      "C:\\Users\\E\\Desktop\\Chessboard\n"
     ]
    }
   ],
   "source": [
    "import os\n",
    "HOME = os.getcwd()\n",
    "print(HOME)"
   ]
  },
  {
   "cell_type": "code",
   "execution_count": 4,
   "id": "de0134d9-e5d9-40b0-9e80-faccb6bdd03d",
   "metadata": {},
   "outputs": [
    {
     "name": "stderr",
     "output_type": "stream",
     "text": [
      "Ultralytics YOLOv8.0.196  Python-3.11.9 torch-2.3.1+cpu CPU (AMD Ryzen 7 7735U with Radeon Graphics)\n",
      "Setup complete  (16 CPUs, 31.2 GB RAM, 191.3/953.1 GB disk)\n"
     ]
    }
   ],
   "source": [
    "!pip install ultralytics==8.0.20\n",
    "\n",
    "from IPython import display\n",
    "display.clear_output()\n",
    "\n",
    "import ultralytics\n",
    "ultralytics.checks()"
   ]
  },
  {
   "cell_type": "code",
   "execution_count": null,
   "id": "6b78f4bd-0fb0-403a-a609-6d3deb18b051",
   "metadata": {},
   "outputs": [],
   "source": [
    "from ultralytics import YOLO\n",
    "\n",
    "from IPython.display import display, Image"
   ]
  },
  {
   "cell_type": "code",
   "execution_count": 5,
   "id": "667c5e04-b0d5-4625-9501-1c6306a101a1",
   "metadata": {},
   "outputs": [
    {
     "name": "stderr",
     "output_type": "stream",
     "text": [
      "'grep' is not recognized as an internal or external command,\n",
      "operable program or batch file.\n",
      "'grep' is not recognized as an internal or external command,\n",
      "operable program or batch file.\n"
     ]
    }
   ],
   "source": [
    "!pip list | grep ultralytics\n",
    "!pip list | grep yolov5  # If you also used YOLOv5\n"
   ]
  },
  {
   "cell_type": "code",
   "execution_count": null,
   "id": "062da6a0-5ad8-422c-b31f-64b8cf6711b6",
   "metadata": {},
   "outputs": [],
   "source": [
    "!pip uninstall ultralytics\n"
   ]
  },
  {
   "cell_type": "code",
   "execution_count": null,
   "id": "5149a3dc-d00b-4689-be9b-98e17cb7014c",
   "metadata": {},
   "outputs": [],
   "source": [
    "!pip cache purge\n"
   ]
  }
 ],
 "metadata": {
  "kernelspec": {
   "display_name": "Python 3 (ipykernel)",
   "language": "python",
   "name": "python3"
  },
  "language_info": {
   "codemirror_mode": {
    "name": "ipython",
    "version": 3
   },
   "file_extension": ".py",
   "mimetype": "text/x-python",
   "name": "python",
   "nbconvert_exporter": "python",
   "pygments_lexer": "ipython3",
   "version": "3.11.9"
  }
 },
 "nbformat": 4,
 "nbformat_minor": 5
}
