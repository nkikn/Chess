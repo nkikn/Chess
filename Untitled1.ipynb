{
 "cells": [
  {
   "cell_type": "code",
   "execution_count": 1,
   "id": "605fe941-49bc-4a0e-9877-19840c75e3cf",
   "metadata": {},
   "outputs": [
    {
     "name": "stdout",
     "output_type": "stream",
     "text": [
      "Requirement already satisfied: berserk in c:\\users\\e\\desktop\\chessboard\\chess\\venv\\lib\\site-packages (0.13.2)\n",
      "Requirement already satisfied: deprecated<2.0.0,>=1.2.14 in c:\\users\\e\\desktop\\chessboard\\chess\\venv\\lib\\site-packages (from berserk) (1.2.14)\n",
      "Requirement already satisfied: ndjson<0.4.0,>=0.3.1 in c:\\users\\e\\desktop\\chessboard\\chess\\venv\\lib\\site-packages (from berserk) (0.3.1)\n",
      "Requirement already satisfied: python-dateutil<3.0.0,>=2.8.2 in c:\\users\\e\\desktop\\chessboard\\chess\\venv\\lib\\site-packages (from berserk) (2.9.0.post0)\n",
      "Requirement already satisfied: requests<3.0.0,>=2.28.2 in c:\\users\\e\\desktop\\chessboard\\chess\\venv\\lib\\site-packages (from berserk) (2.32.3)\n",
      "Requirement already satisfied: typing-extensions<5.0.0,>=4.7.1 in c:\\users\\e\\desktop\\chessboard\\chess\\venv\\lib\\site-packages (from berserk) (4.12.2)\n",
      "Requirement already satisfied: wrapt<2,>=1.10 in c:\\users\\e\\desktop\\chessboard\\chess\\venv\\lib\\site-packages (from deprecated<2.0.0,>=1.2.14->berserk) (1.16.0)\n",
      "Requirement already satisfied: six>=1.5 in c:\\users\\e\\desktop\\chessboard\\chess\\venv\\lib\\site-packages (from python-dateutil<3.0.0,>=2.8.2->berserk) (1.16.0)\n",
      "Requirement already satisfied: charset-normalizer<4,>=2 in c:\\users\\e\\desktop\\chessboard\\chess\\venv\\lib\\site-packages (from requests<3.0.0,>=2.28.2->berserk) (3.3.2)\n",
      "Requirement already satisfied: idna<4,>=2.5 in c:\\users\\e\\desktop\\chessboard\\chess\\venv\\lib\\site-packages (from requests<3.0.0,>=2.28.2->berserk) (3.8)\n",
      "Requirement already satisfied: urllib3<3,>=1.21.1 in c:\\users\\e\\desktop\\chessboard\\chess\\venv\\lib\\site-packages (from requests<3.0.0,>=2.28.2->berserk) (2.2.2)\n",
      "Requirement already satisfied: certifi>=2017.4.17 in c:\\users\\e\\desktop\\chessboard\\chess\\venv\\lib\\site-packages (from requests<3.0.0,>=2.28.2->berserk) (2024.8.30)\n"
     ]
    }
   ],
   "source": [
    "!pip install berserk"
   ]
  },
  {
   "cell_type": "code",
   "execution_count": 2,
   "id": "2b211dd4-f5a8-462c-b9fb-8511112376c7",
   "metadata": {},
   "outputs": [],
   "source": [
    "token = 'lip_e40tkYVdBFHOdocl6K6V'"
   ]
  },
  {
   "cell_type": "code",
   "execution_count": 3,
   "id": "9c1d9b62-4ee0-461c-b500-97b05edb4b83",
   "metadata": {},
   "outputs": [
    {
     "ename": "ModuleNotFoundError",
     "evalue": "No module named 'berserk'",
     "output_type": "error",
     "traceback": [
      "\u001b[1;31m---------------------------------------------------------\u001b[0m",
      "\u001b[1;31mModuleNotFoundError\u001b[0m     Traceback (most recent call last)",
      "Cell \u001b[1;32mIn[3], line 1\u001b[0m\n\u001b[1;32m----> 1\u001b[0m \u001b[38;5;28;01mimport\u001b[39;00m \u001b[38;5;21;01mberserk\u001b[39;00m\n",
      "\u001b[1;31mModuleNotFoundError\u001b[0m: No module named 'berserk'"
     ]
    }
   ],
   "source": [
    "import berserk\n"
   ]
  },
  {
   "cell_type": "code",
   "execution_count": 4,
   "id": "e4722cc0-a66a-4848-a8d1-33280bfc58d7",
   "metadata": {},
   "outputs": [
    {
     "name": "stdout",
     "output_type": "stream",
     "text": [
      "Requirement already satisfied: berserk in c:\\users\\e\\desktop\\chessboard\\chess\\venv\\lib\\site-packages (0.13.2)\n",
      "Requirement already satisfied: deprecated<2.0.0,>=1.2.14 in c:\\users\\e\\desktop\\chessboard\\chess\\venv\\lib\\site-packages (from berserk) (1.2.14)\n",
      "Requirement already satisfied: ndjson<0.4.0,>=0.3.1 in c:\\users\\e\\desktop\\chessboard\\chess\\venv\\lib\\site-packages (from berserk) (0.3.1)\n",
      "Requirement already satisfied: python-dateutil<3.0.0,>=2.8.2 in c:\\users\\e\\desktop\\chessboard\\chess\\venv\\lib\\site-packages (from berserk) (2.9.0.post0)\n",
      "Requirement already satisfied: requests<3.0.0,>=2.28.2 in c:\\users\\e\\desktop\\chessboard\\chess\\venv\\lib\\site-packages (from berserk) (2.32.3)\n",
      "Requirement already satisfied: typing-extensions<5.0.0,>=4.7.1 in c:\\users\\e\\desktop\\chessboard\\chess\\venv\\lib\\site-packages (from berserk) (4.12.2)\n",
      "Requirement already satisfied: wrapt<2,>=1.10 in c:\\users\\e\\desktop\\chessboard\\chess\\venv\\lib\\site-packages (from deprecated<2.0.0,>=1.2.14->berserk) (1.16.0)\n",
      "Requirement already satisfied: six>=1.5 in c:\\users\\e\\desktop\\chessboard\\chess\\venv\\lib\\site-packages (from python-dateutil<3.0.0,>=2.8.2->berserk) (1.16.0)\n",
      "Requirement already satisfied: charset-normalizer<4,>=2 in c:\\users\\e\\desktop\\chessboard\\chess\\venv\\lib\\site-packages (from requests<3.0.0,>=2.28.2->berserk) (3.3.2)\n",
      "Requirement already satisfied: idna<4,>=2.5 in c:\\users\\e\\desktop\\chessboard\\chess\\venv\\lib\\site-packages (from requests<3.0.0,>=2.28.2->berserk) (3.8)\n",
      "Requirement already satisfied: urllib3<3,>=1.21.1 in c:\\users\\e\\desktop\\chessboard\\chess\\venv\\lib\\site-packages (from requests<3.0.0,>=2.28.2->berserk) (2.2.2)\n",
      "Requirement already satisfied: certifi>=2017.4.17 in c:\\users\\e\\desktop\\chessboard\\chess\\venv\\lib\\site-packages (from requests<3.0.0,>=2.28.2->berserk) (2024.8.30)\n"
     ]
    }
   ],
   "source": [
    "!pip install berserk\n"
   ]
  },
  {
   "cell_type": "code",
   "execution_count": null,
   "id": "50d0873e-be5e-4073-8eb2-2d747c922ae5",
   "metadata": {},
   "outputs": [],
   "source": []
  }
 ],
 "metadata": {
  "kernelspec": {
   "display_name": "Python 3 (ipykernel)",
   "language": "python",
   "name": "python3"
  },
  "language_info": {
   "codemirror_mode": {
    "name": "ipython",
    "version": 3
   },
   "file_extension": ".py",
   "mimetype": "text/x-python",
   "name": "python",
   "nbconvert_exporter": "python",
   "pygments_lexer": "ipython3",
   "version": "3.11.9"
  }
 },
 "nbformat": 4,
 "nbformat_minor": 5
}
